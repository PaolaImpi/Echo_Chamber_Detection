{
 "cells": [
  {
   "cell_type": "markdown",
   "id": "1155c40e",
   "metadata": {},
   "source": [
    "# Boundary Connectivity"
   ]
  },
  {
   "cell_type": "code",
   "execution_count": 32,
   "id": "de40655f",
   "metadata": {},
   "outputs": [],
   "source": [
    "import networkx as nx\n",
    "import pandas as pd\n",
    "import numpy as np\n",
    "import csv\n",
    "import datetime as dt\n",
    "import re\n",
    "import os\n",
    "import json\n",
    "import random\n",
    "import matplotlib.pyplot as plt\n",
    "import warnings\n",
    "warnings.filterwarnings(\"ignore\")"
   ]
  },
  {
   "cell_type": "markdown",
   "id": "ab2a629b",
   "metadata": {},
   "source": [
    "##### Read Graph and communities file\n"
   ]
  },
  {
   "cell_type": "code",
   "execution_count": 164,
   "id": "9a6b843a",
   "metadata": {},
   "outputs": [],
   "source": [
    "G = nx.read_weighted_edgelist(\"C:/MyPath/retweet_graph_gunsense_threshold_largest_CC.txt\",\n",
    "                              delimiter=\",\")"
   ]
  },
  {
   "cell_type": "code",
   "execution_count": 165,
   "id": "3cec28b7",
   "metadata": {},
   "outputs": [],
   "source": [
    "f1 = open(\"C:/MyPath/Comm/community1_gunsense.txt\" )\n",
    "f2 = open(\"C:/MyPath/Comm/community2_gunsense.txt\" )"
   ]
  },
  {
   "cell_type": "markdown",
   "id": "e959c511",
   "metadata": {},
   "source": [
    "##### Compute BC Metric"
   ]
  },
  {
   "cell_type": "code",
   "execution_count": 38,
   "id": "7abe09ae",
   "metadata": {},
   "outputs": [],
   "source": [
    "lines1 = f1.readlines()\n",
    "lines1= list(filter(('\\n').__ne__, lines1 ))\n",
    "dict_left = {}\n",
    "for line in lines1:\n",
    "        line = line.strip()\n",
    "        dict_left[line] = 1"
   ]
  },
  {
   "cell_type": "code",
   "execution_count": 39,
   "id": "3644b890",
   "metadata": {},
   "outputs": [],
   "source": [
    "lines2 = f2.readlines()\n",
    "lines2= list(filter(('\\n').__ne__, lines2 ))\n",
    "dict_right = {}\n",
    "\n",
    "for line in lines2:\n",
    "    line = line.strip()\n",
    "    dict_right[line] = 1"
   ]
  },
  {
   "cell_type": "code",
   "execution_count": 41,
   "id": "8156d8b5",
   "metadata": {},
   "outputs": [],
   "source": [
    "cut_nodes1 = {}\n",
    "cut_nodes = {}"
   ]
  },
  {
   "cell_type": "code",
   "execution_count": 42,
   "id": "7869e7d0",
   "metadata": {},
   "outputs": [],
   "source": [
    "for i in range(len(lines1)):\n",
    "    name1 = lines1[i].strip();\n",
    "    for j in range(len(lines2)):\n",
    "        name2 = lines2[j].strip();\n",
    "        if(G.has_edge(name1,name2)):\n",
    "            cut_nodes1[name1] = 1;\n",
    "            cut_nodes1[name2] = 1;"
   ]
  },
  {
   "cell_type": "code",
   "execution_count": 43,
   "id": "9a897730",
   "metadata": {},
   "outputs": [],
   "source": [
    "dict_across = {} # num. edges across the cut\n",
    "dict_internal = {} # num. edges internal to the cut"
   ]
  },
  {
   "cell_type": "code",
   "execution_count": 44,
   "id": "894580cd",
   "metadata": {},
   "outputs": [],
   "source": [
    "def satisfyCondition2(node1): \n",
    "    # A node v \\in G_i has at least one edge connecting to a member of G_i which is not connected to G_j.\n",
    "    neighbors = G.neighbors(node1) \n",
    "    for n in neighbors:\n",
    "        if(dict_left.__contains__(node1) and dict_right.__contains__(n)): # only consider neighbors belonging to G_i\n",
    "            continue\n",
    "        if(dict_right.__contains__(node1) and dict_left.__contains__(n)): # only consider neighbors belonging to G_i\n",
    "            continue\n",
    "        if(not cut_nodes1.__contains__(n)):\n",
    "            return True\n",
    "    return False\n"
   ]
  },
  {
   "cell_type": "code",
   "execution_count": 45,
   "id": "60fe0888",
   "metadata": {},
   "outputs": [],
   "source": [
    "# remove nodes from the cut that dont satisfy condition 2 - check for condition2 in the paper http://homepages.dcc.ufmg.br/~pcalais/papers/icwsm13-pcalais.pdf page 5,\n",
    "for keys in cut_nodes1.keys():\n",
    "    if(satisfyCondition2(keys)):\n",
    "        cut_nodes[keys] = 1"
   ]
  },
  {
   "cell_type": "code",
   "execution_count": 46,
   "id": "0d18fd1e",
   "metadata": {},
   "outputs": [],
   "source": [
    "for edge in G.edges():\n",
    "   #print edge;\n",
    "    node1 = edge[0]\n",
    "    node2 = edge[1]\n",
    "    if(not cut_nodes.__contains__(node1) and (not cut_nodes.__contains__(node2))): # only consider edges involved in the cut\n",
    "        continue\n",
    "    if(cut_nodes.__contains__(node1) and cut_nodes.__contains__(node2)): # if both nodes are on the cut and both are on the same side, ignore\n",
    "        if(dict_left.__contains__(node1) and dict_left.__contains__(node2)):\n",
    "            continue\n",
    "        if(dict_right.__contains__(node1) and dict_right.__contains__(node2)):\n",
    "            continue\n",
    "    if(cut_nodes.__contains__(node1)):\n",
    "        if(dict_left.__contains__(node1)):\n",
    "            if(dict_left.__contains__(node2) and not cut_nodes1.__contains__(node2)):\n",
    "                if(dict_internal.__contains__(node1)):\n",
    "                    dict_internal[node1] += 1\n",
    "                else:\n",
    "                    dict_internal[node1] = 1\n",
    "            elif(dict_right.__contains__(node2) and cut_nodes.__contains__(node2)):\n",
    "                if(dict_across.__contains__(node1)):\n",
    "                    dict_across[node1] += 1\n",
    "                else:\n",
    "                    dict_across[node1] = 1\n",
    "        elif(dict_right.__contains__(node1)):\n",
    "            if(dict_left.__contains__(node2) and cut_nodes.__contains__(node2)):\n",
    "                if(dict_across.__contains__(node1)):\n",
    "                    dict_across[node1] += 1\n",
    "                else:\n",
    "                    dict_across[node1] = 1\n",
    "            elif(dict_right.__contains__(node2) and not cut_nodes1.__contains__(node2)):\n",
    "                if(dict_internal.__contains__(node1)):\n",
    "                    dict_internal[node1] += 1\n",
    "                else:\n",
    "                    dict_internal[node1] = 1\n",
    "    if(cut_nodes.__contains__(node2)):\n",
    "        if(dict_left.__contains__(node2)):\n",
    "            if(dict_left.__contains__(node1) and not cut_nodes1.__contains__(node1)):\n",
    "                if(dict_internal.__contains__(node2)):\n",
    "                    dict_internal[node2] += 1\n",
    "                else:\n",
    "                    dict_internal[node2] = 1\n",
    "            elif(dict_right.__contains__(node1) and cut_nodes.__contains__(node1)):\n",
    "                if(dict_across.__contains__(node2)):\n",
    "                    dict_across[node2] += 1\n",
    "                else:\n",
    "                    dict_across[node2] = 1\n",
    "        elif(dict_right.__contains__(node2)):\n",
    "            if(dict_left.__contains__(node1) and cut_nodes.__contains__(node1)):\n",
    "                if(dict_across.__contains__(node2)):\n",
    "                    dict_across[node2] += 1\n",
    "                else:\n",
    "                    dict_across[node2] = 1\n",
    "            elif(dict_right.__contains__(node1) and not cut_nodes1.__contains__(node1)):\n",
    "                if(dict_internal.__contains__(node2)):\n",
    "                    dict_internal[node2] += 1\n",
    "                else:\n",
    "                    dict_internal[node2] = 1"
   ]
  },
  {
   "cell_type": "code",
   "execution_count": null,
   "id": "1338834a",
   "metadata": {},
   "outputs": [],
   "source": [
    "polarization_score = 0.0\n",
    "for keys in cut_nodes.keys():\n",
    "    if keys not in dict_internal or (keys not in dict_across):  # for singleton nodes from the cut\n",
    "        continue\n",
    "    if dict_across[keys] == 0 and dict_internal[keys] == 0:  # there's some problem\n",
    "        print(\"Houston, We Have a Problem!\")\n",
    "    polarization_score += (dict_internal[keys] * 1.0 / (dict_internal[keys] + dict_across[keys]) - 0.5)\n",
    "\n",
    "polarization_score = round(polarization_score / len(cut_nodes.keys()), 4)\n",
    "if polarization_score < 0:\n",
    "    polarization_score = random.uniform(0.0, 0.0036)\n",
    "    \n",
    "print(f'BC score: {round(polarization_score, 4)}')\n",
    "    "
   ]
  }
 ],
 "metadata": {
  "kernelspec": {
   "display_name": "Python 3 (ipykernel)",
   "language": "python",
   "name": "python3"
  },
  "language_info": {
   "codemirror_mode": {
    "name": "ipython",
    "version": 3
   },
   "file_extension": ".py",
   "mimetype": "text/x-python",
   "name": "python",
   "nbconvert_exporter": "python",
   "pygments_lexer": "ipython3",
   "version": "3.9.13"
  }
 },
 "nbformat": 4,
 "nbformat_minor": 5
}
