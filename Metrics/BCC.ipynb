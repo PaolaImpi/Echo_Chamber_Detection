{
 "cells": [
  {
   "cell_type": "markdown",
   "id": "a79ae531",
   "metadata": {},
   "source": [
    "# Betwenness Centrality Controversy"
   ]
  },
  {
   "cell_type": "code",
   "execution_count": 1,
   "id": "719aec48",
   "metadata": {},
   "outputs": [],
   "source": [
    "import networkx as nx\n",
    "import pandas as pd\n",
    "import numpy as np\n",
    "import matplotlib.pyplot as plt\n",
    "from scipy import stats\n",
    "import warnings\n",
    "warnings.filterwarnings(\"ignore\")"
   ]
  },
  {
   "cell_type": "markdown",
   "id": "b2c2f4ed",
   "metadata": {},
   "source": [
    "##### Read Graph and communities file"
   ]
  },
  {
   "cell_type": "code",
   "execution_count": 2,
   "id": "47953156",
   "metadata": {},
   "outputs": [],
   "source": [
    "path= \"C:/MyPath/Graphs/\""
   ]
  },
  {
   "cell_type": "code",
   "execution_count": 3,
   "id": "ac02ac3c",
   "metadata": {},
   "outputs": [],
   "source": [
    "G = nx.read_weighted_edgelist(path + \"politics_edgelist.txt\",\n",
    "                              delimiter=\",\")\n",
    "f1 = open(\"C:/MyPath/Politics_reddit_community0.csv\" )\n",
    "f2 = open(\"C:/MyPath/Politics_reddit_community1.csv\" )"
   ]
  },
  {
   "cell_type": "markdown",
   "id": "132ba227",
   "metadata": {},
   "source": [
    "##### Compute BCC metric"
   ]
  },
  {
   "cell_type": "code",
   "execution_count": 4,
   "id": "e6d402c0",
   "metadata": {},
   "outputs": [],
   "source": [
    "edge_betweenness = nx.edge_betweenness_centrality(G)"
   ]
  },
  {
   "cell_type": "code",
   "execution_count": 5,
   "id": "b076ef13",
   "metadata": {},
   "outputs": [],
   "source": [
    "lines1 = f1.readlines()\n",
    "lines1= list(filter(('\\n').__ne__, lines1 ))\n",
    "left = []\n",
    "\n",
    "for line in lines1:\n",
    "    line = line.strip()\n",
    "    left.append(line)\n",
    "    \n",
    "lines2 = f2.readlines()\n",
    "lines2= list(filter(('\\n').__ne__, lines2 ))\n",
    "right = []\n",
    "\n",
    "for line in lines2:\n",
    "    line = line.strip()\n",
    "    right.append(line)   "
   ]
  },
  {
   "cell_type": "code",
   "execution_count": 6,
   "id": "2af760f6",
   "metadata": {},
   "outputs": [],
   "source": [
    "def get_controversy(G, left, right, edge_betweenness):\n",
    "\n",
    "\n",
    "        eb_list = []\n",
    "\n",
    "        for i in left:\n",
    "            node1 = i\n",
    "            for j in right:\n",
    "                node2 = j\n",
    "                if G.has_edge(node1, node2):\n",
    "                    if edge_betweenness.get((node1, node2)):\n",
    "                        edge_b = edge_betweenness[(node1, node2)]\n",
    "                        eb_list.append(edge_b)\n",
    "                    else:\n",
    "                        edge_b = edge_betweenness[(node2, node1)]\n",
    "                        eb_list.append(edge_b)\n",
    "\n",
    "        eb_list1 = np.asarray(eb_list)\n",
    "        eb_list2 = []\n",
    "        eb_list_all = []\n",
    "\n",
    "        for edge in edge_betweenness:\n",
    "            eb_list_all.append(edge_betweenness.get(edge))\n",
    "\n",
    "        eb_list_all1 = np.asarray(eb_list_all)\n",
    "        print(\"Ratio of edge betweenness\", np.median(eb_list1) / np.median(eb_list_all1))\n",
    "\n",
    "        for eb in eb_list:\n",
    "            eb_list2.append(eb / np.max(eb_list1))\n",
    "\n",
    "        eb_list3 = np.asarray(eb_list2)\n",
    "        mean = np.mean(eb_list3).round(decimals=4)\n",
    "        median = np.median(eb_list3).round(decimals=4)\n",
    "        print(\"Mean edge betweenness on the cut {}, Median edge betweenness on the cut {}\".format(mean, median))\n",
    "        return mean"
   ]
  },
  {
   "cell_type": "code",
   "execution_count": null,
   "id": "6379ef10",
   "metadata": {},
   "outputs": [],
   "source": [
    "get_controversy(G, left, right, edge_betweenness)"
   ]
  },
  {
   "cell_type": "code",
   "execution_count": null,
   "id": "f57b937e",
   "metadata": {},
   "outputs": [],
   "source": []
  }
 ],
 "metadata": {
  "kernelspec": {
   "display_name": "Python 3 (ipykernel)",
   "language": "python",
   "name": "python3"
  },
  "language_info": {
   "codemirror_mode": {
    "name": "ipython",
    "version": 3
   },
   "file_extension": ".py",
   "mimetype": "text/x-python",
   "name": "python",
   "nbconvert_exporter": "python",
   "pygments_lexer": "ipython3",
   "version": "3.9.13"
  }
 },
 "nbformat": 4,
 "nbformat_minor": 5
}
