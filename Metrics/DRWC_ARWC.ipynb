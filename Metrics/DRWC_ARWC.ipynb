{
 "cells": [
  {
   "cell_type": "markdown",
   "id": "683a03ba",
   "metadata": {},
   "source": [
    "## Displacement Random Walk Controversy"
   ]
  },
  {
   "cell_type": "code",
   "execution_count": 21,
   "id": "c1b17061",
   "metadata": {},
   "outputs": [],
   "source": [
    "import networkx as nx\n",
    "import pandas as pd\n",
    "import numpy as np\n",
    "import csv\n",
    "import datetime as dt\n",
    "import re\n",
    "import os\n",
    "import json\n",
    "import random\n",
    "import matplotlib.pyplot as plt\n",
    "from networkx.algorithms.shortest_paths.generic import average_shortest_path_length\n",
    "from networkx.algorithms.centrality import degree_centrality\n",
    "import warnings\n",
    "warnings.filterwarnings(\"ignore\")"
   ]
  },
  {
   "cell_type": "markdown",
   "id": "bb8d608f",
   "metadata": {},
   "source": [
    "##### Read Graph and communities file"
   ]
  },
  {
   "cell_type": "code",
   "execution_count": 7,
   "id": "c4652419",
   "metadata": {},
   "outputs": [],
   "source": [
    "path= \"C:/MyPath/Graphs/\""
   ]
  },
  {
   "cell_type": "code",
   "execution_count": 96,
   "id": "840f00b0",
   "metadata": {},
   "outputs": [],
   "source": [
    "G = nx.read_weighted_edgelist(path + \"vax_twitter_edgelist.txt\",\n",
    "                              delimiter=\",\")\n",
    "f1 = open(\"C:/MyPath/vax_twittercommunity0.csv\" )\n",
    "f2 = open(\"C:/MyPath/vax_twittercommunity0.csv\" )"
   ]
  },
  {
   "cell_type": "markdown",
   "id": "ba8c4982",
   "metadata": {},
   "source": [
    "##### Compute DRWC metric"
   ]
  },
  {
   "cell_type": "code",
   "execution_count": 97,
   "id": "7a90b7c4",
   "metadata": {},
   "outputs": [],
   "source": [
    "lines1 = f1.readlines()\n",
    "lines1= list(filter(('\\n').__ne__, lines1 ))\n",
    "dict_left = {}\n",
    "for line in lines1:\n",
    "        line = line.strip()\n",
    "        dict_left[line] = 1\n",
    "lines2 = f2.readlines()\n",
    "lines2= list(filter(('\\n').__ne__, lines2 ))\n",
    "dict_right = {}\n",
    "\n",
    "for line in lines2:\n",
    "    line = line.strip()\n",
    "    dict_right[line] = 1"
   ]
  },
  {
   "cell_type": "code",
   "execution_count": 98,
   "id": "619abe23",
   "metadata": {},
   "outputs": [],
   "source": [
    "part0= set(dict_left.keys())\n",
    "part1= set(dict_right.keys())"
   ]
  },
  {
   "cell_type": "code",
   "execution_count": 99,
   "id": "8c9ebb72",
   "metadata": {},
   "outputs": [],
   "source": [
    "cont = 0\n",
    "for node in G.nodes(data=True):\n",
    "    if node[0] in part0:\n",
    "        G.nodes[node[0]]['com'] = 0\n",
    "    else:\n",
    "        G.nodes[node[0]]['com'] = 1\n",
    "    G.nodes[node[0]]['id'] = cont\n",
    "    cont += 1"
   ]
  },
  {
   "cell_type": "code",
   "execution_count": 147,
   "id": "5c47af47",
   "metadata": {},
   "outputs": [],
   "source": [
    "def start_random_walks_side(node, graph, steps):\n",
    "    max_restart = 20\n",
    "    result = 0\n",
    "    cont = 0\n",
    "    start_node_com = node[1]['com']\n",
    "    steps_done = 0\n",
    "    \n",
    "    change_times = 0\n",
    "    \n",
    "    #print(f'SELECTED NODE: {node[0]}')\n",
    "    #print(f'STARTER NODE COMMUNITY: {start_node_com}')\n",
    "    \n",
    "    current_node = node[0]\n",
    "    \n",
    "    while steps_done <= steps:\n",
    "        list_edges = list(graph.edges(current_node))\n",
    "        if len(list_edges) != 0:\n",
    "            next_node = list_edges[random.randint(0,len(list_edges)-1)][1]\n",
    "            if graph.nodes[next_node][\"com\"] != start_node_com:\n",
    "                change_times += 1\n",
    "            steps_done += 1\n",
    "    result = 1 - (change_times/steps)\n",
    "    #print(f'RISULTATO: {result}')\n",
    "    #print(f'Restart: {max_restart}')\n",
    "    return result"
   ]
  },
  {
   "cell_type": "code",
   "execution_count": 148,
   "id": "131e1906",
   "metadata": {},
   "outputs": [],
   "source": [
    "def change_side_controversy(start_graph, sample_size, num_steps, part0, part1):\n",
    "     \n",
    "    result = list()\n",
    "    \n",
    "    for_community_0 = int(len(part0)*sample_size)\n",
    "    for_community_1 = int(len(part1)*sample_size)\n",
    "    \n",
    "    sample_com_0 = for_community_0\n",
    "    sample_com_1 = for_community_1\n",
    "    \n",
    "    already_taken = list()\n",
    "    \n",
    "    graph= start_graph\n",
    "    \n",
    "    while True:\n",
    "        node_id = random.randint(0, len(graph)-1)\n",
    "        for node in graph.nodes(data=True):\n",
    "            if node[1]['id'] == node_id:\n",
    "                break\n",
    "        if len(list(graph.edges(node[0]))) > 0 and node_id not in already_taken:\n",
    "            already_taken.append(node_id)\n",
    "            com = node[1]['com']\n",
    "            if not((for_community_0 == 0 and com == 0) or (for_community_1 == 0 and com == 1)):\n",
    "                \n",
    "                result.append(start_random_walks_side(node, graph, num_steps))\n",
    "                if com == 0:\n",
    "                    for_community_0 -= 1\n",
    "                else:\n",
    "                    for_community_1 -= 1\n",
    "                \n",
    "                # print(for_community_0 + for_community_1)\n",
    "                    \n",
    "                if int(for_community_0 + for_community_1) <= 0:\n",
    "                    break\n",
    "                elif (for_community_0 + for_community_1) == int((sample_com_0 + sample_com_1)*0.75):\n",
    "                    pass\n",
    "                    \n",
    "                elif (for_community_0 + for_community_1) == int((sample_com_0 + sample_com_1)*0.5):\n",
    "                    pass\n",
    "                   \n",
    "                elif (for_community_0 + for_community_1) == int((sample_com_0 + sample_com_1)*0.25):\n",
    "                    pass\n",
    "                    \n",
    "                    \n",
    "    score = np.mean(result)\n",
    "    print(f'Change side controversy for : {np.mean(score)}')\n",
    "    return np.mean(round(score, 4))\n",
    "    "
   ]
  },
  {
   "cell_type": "code",
   "execution_count": 149,
   "id": "b6e1c0f3",
   "metadata": {},
   "outputs": [
    {
     "name": "stdout",
     "output_type": "stream",
     "text": [
      "3\n"
     ]
    }
   ],
   "source": [
    "shortest_path = round(average_shortest_path_length(G))\n",
    "print(shortest_path)"
   ]
  },
  {
   "cell_type": "code",
   "execution_count": null,
   "id": "ac9decaf",
   "metadata": {},
   "outputs": [],
   "source": [
    "change_side_controversy(G, 0.6, shortest_path*2, part0, part1)"
   ]
  },
  {
   "cell_type": "markdown",
   "id": "882208d4",
   "metadata": {},
   "source": [
    "# Authorative Random Walk Controversy"
   ]
  },
  {
   "cell_type": "code",
   "execution_count": 43,
   "id": "9fd0a719",
   "metadata": {},
   "outputs": [],
   "source": [
    "def top_out_degree(graph, perc, com):\n",
    "    \n",
    "    cont_com = 0\n",
    "    \n",
    "    for node in graph.nodes(data=True):\n",
    "        if node[1]['com'] == com:\n",
    "            cont_com += 1\n",
    "    \n",
    "    num_nodes = int(cont_com * (perc/100))\n",
    "    \n",
    "    top_out_degree = degree_centrality(graph)\n",
    "    top_out_degree_sorted = {k: v for k, v in sorted(top_out_degree.items(), key=lambda item: item[1], reverse=True)}\n",
    "    \n",
    "    top_user = list()\n",
    "    for node in top_out_degree_sorted:\n",
    "        if graph.nodes[node]['com'] == com:\n",
    "            top_user.append(node)\n",
    "            \n",
    "        num_nodes -= 1\n",
    "        \n",
    "        if num_nodes == 0:\n",
    "            break \n",
    "            \n",
    "    return top_user"
   ]
  },
  {
   "cell_type": "code",
   "execution_count": 44,
   "id": "55a490f9",
   "metadata": {},
   "outputs": [],
   "source": [
    "def start_random_walks(node, graph, num_steps, top_com_0, top_com_1):\n",
    "    result = 0\n",
    "    start_node_com = int(node[1]['com'])\n",
    "    steps_done = 0\n",
    "    \n",
    "\n",
    "    current_node = node[0]\n",
    "    \n",
    "    while True:\n",
    "        list_edges = list(graph.edges(current_node))\n",
    "        if len(list_edges) != 0:\n",
    "            next_node = list_edges[random.randint(0,len(list_edges)-1)][1]\n",
    "            steps_done += 1\n",
    "            #print(f'Next node: {next_node}')\n",
    "            #print(f'Next node com: {graph.nodes[next_node][\"com\"]}')\n",
    "            if next_node in top_com_0:\n",
    "                if start_node_com == 0:\n",
    "                    return 0\n",
    "                else:\n",
    "                    return 1\n",
    "            elif next_node in top_com_1:\n",
    "                if start_node_com == 0:\n",
    "                    return 2\n",
    "                else:\n",
    "                    return 3\n",
    "        if steps_done >= num_steps:\n",
    "            return -4\n",
    "    \n",
    "    print(f'RISULTATO: {result}')\n",
    "    print(f'Restart: {max_restart}')\n",
    "    return result"
   ]
  },
  {
   "cell_type": "code",
   "execution_count": 45,
   "id": "834f210d",
   "metadata": {},
   "outputs": [],
   "source": [
    "def random_walks_centrality(graph, num_steps):\n",
    "    \n",
    "    \n",
    "   \n",
    "   \n",
    "    top_com_0 = top_out_degree(graph, 25, 0)\n",
    "    top_com_1 = top_out_degree(graph, 25, 1)\n",
    "    \n",
    "    start_0_end_0 = 0\n",
    "    start_0_end_1 = 0\n",
    "    \n",
    "    start_1_end_1 = 0\n",
    "    start_1_end_0 = 0\n",
    "    \n",
    "    for top_node in top_com_0:\n",
    "        for node in graph.nodes(data=True):\n",
    "            if node[0] == top_node:\n",
    "                break \n",
    "        \n",
    "        result = start_random_walks(node, graph, num_steps, top_com_0, top_com_1)\n",
    "        while result == 4:\n",
    "            result = start_random_walks(node, graph, num_steps, top_com_0, top_com_1)\n",
    "\n",
    "        if result == 0:\n",
    "            start_0_end_0 += 1\n",
    "        elif result == 2:\n",
    "            start_0_end_1 += 1\n",
    "    \n",
    "            \n",
    "    for top_node in top_com_1:\n",
    "        for node in graph.nodes(data=True):\n",
    "            if node[0] == top_node:\n",
    "                break \n",
    "\n",
    "        result = start_random_walks(node, graph, num_steps, top_com_0, top_com_1)\n",
    "\n",
    "        while result == 4:\n",
    "            result = start_random_walks(node, graph, num_steps, top_com_0, top_com_1)\n",
    "        \n",
    "        if result == 1:\n",
    "            start_1_end_0 += 1\n",
    "        elif result == 3:\n",
    "            start_1_end_1 += 1\n",
    "\n",
    "          \n",
    "    #print(f'start_0_end_0: {start_0_end_0}')\n",
    "    #print(f'start_1_end_0: {start_1_end_0}')\n",
    "    #print(f'start_0_end_1: {start_0_end_1}')\n",
    "    #print(f'start_1_end_1: {start_1_end_1}')\n",
    "    #print()\n",
    "    \n",
    "    start_0_end_0 = start_0_end_0/(len(top_com_0))    \n",
    "    start_1_end_0 = start_1_end_0/(len(top_com_1))   \n",
    "    start_0_end_1 = start_0_end_1/(len(top_com_0))   \n",
    "    start_1_end_1 = start_1_end_1/(len(top_com_1)) \n",
    "    #print()\n",
    "                    \n",
    "    #print(f'start_0_end_0: {start_0_end_0}')\n",
    "    #print(f'start_1_end_0: {start_1_end_0}')\n",
    "    #print(f'start_0_end_1: {start_0_end_1}')\n",
    "    #print(f'start_1_end_1: {start_1_end_1}')    \n",
    "    score = start_0_end_0*start_1_end_1-start_1_end_0*start_0_end_1\n",
    "    #print(f'RandomWalk top degree score for {com_type}: {round(score, 4)}')\n",
    "    #print()\n",
    "    \n",
    "    return round(score, 4)\n",
    "    "
   ]
  },
  {
   "cell_type": "code",
   "execution_count": null,
   "id": "dc83e8e0",
   "metadata": {},
   "outputs": [],
   "source": [
    "random_walks_centrality(G, 20) #change % of authorative nodes, in this example top 20%"
   ]
  }
 ],
 "metadata": {
  "kernelspec": {
   "display_name": "Python 3 (ipykernel)",
   "language": "python",
   "name": "python3"
  },
  "language_info": {
   "codemirror_mode": {
    "name": "ipython",
    "version": 3
   },
   "file_extension": ".py",
   "mimetype": "text/x-python",
   "name": "python",
   "nbconvert_exporter": "python",
   "pygments_lexer": "ipython3",
   "version": "3.9.13"
  }
 },
 "nbformat": 4,
 "nbformat_minor": 5
}
