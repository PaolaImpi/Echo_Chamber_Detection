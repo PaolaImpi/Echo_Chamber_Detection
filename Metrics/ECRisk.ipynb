{
 "cells": [
  {
   "cell_type": "markdown",
   "id": "cc7f741e",
   "metadata": {},
   "source": [
    "# ECrisk"
   ]
  },
  {
   "cell_type": "code",
   "execution_count": 1,
   "id": "dbe6cd9b",
   "metadata": {},
   "outputs": [],
   "source": [
    "import networkx as nx\n",
    "import pandas as pd\n",
    "import numpy as np\n",
    "import csv\n",
    "import datetime as dt\n",
    "import re\n",
    "import os\n",
    "import json\n",
    "import random\n",
    "import time,pickle\n",
    "import scipy.sparse as sp\n",
    "from operator import itemgetter\n",
    "import matplotlib.pyplot as plt\n",
    "import warnings\n",
    "warnings.filterwarnings(\"ignore\")"
   ]
  },
  {
   "cell_type": "code",
   "execution_count": 5,
   "id": "3ee95c16",
   "metadata": {},
   "outputs": [],
   "source": [
    "savepath=\"C:/MyPath/Cluster/\"\n",
    "path=\"C:/MyPath/Graphs/\"\n",
    "files = [f for f in os.listdir(savepath)]\n",
    "dfs= [pd.read_csv(savepath+ data) for data in files]"
   ]
  },
  {
   "cell_type": "code",
   "execution_count": 6,
   "id": "9bbdb074",
   "metadata": {},
   "outputs": [
    {
     "data": {
      "text/plain": [
       "['guncontrol_clust.csv',\n",
       " 'minority_clust.csv',\n",
       " 'politics_clust.csv',\n",
       " 'vax_reddit_clust.csv',\n",
       " 'vax_twitter_clust.csv']"
      ]
     },
     "execution_count": 6,
     "metadata": {},
     "output_type": "execute_result"
    }
   ],
   "source": [
    "files"
   ]
  },
  {
   "cell_type": "code",
   "execution_count": 7,
   "id": "e07234b0",
   "metadata": {},
   "outputs": [],
   "source": [
    "#dict with labels\n",
    "gund= dict(zip(dfs[0]['Author'], dfs[0]['labels']))\n",
    "mind= dict(zip(dfs[1]['Author'], dfs[1]['labels']))\n",
    "pold= dict(zip(dfs[2]['Author'], dfs[2]['labels']))\n",
    "vrd= dict(zip(dfs[3]['Author'], dfs[3]['labels']))\n",
    "vtd= dict(zip(dfs[4]['username'], dfs[4]['labels']))"
   ]
  },
  {
   "cell_type": "code",
   "execution_count": 8,
   "id": "bf8a68b9",
   "metadata": {},
   "outputs": [],
   "source": [
    "G = nx.read_weighted_edgelist(path + 'guncontrol_edgelist.txt', delimiter=\",\")"
   ]
  },
  {
   "cell_type": "code",
   "execution_count": 9,
   "id": "46d54428",
   "metadata": {},
   "outputs": [],
   "source": [
    "f1 = open(\"C:/MyPath/Guncontrol_reddit_community0.csv\" )\n",
    "f2 = open(\"C:/MyPath/Guncontrol_reddit_community1.csv\" )"
   ]
  },
  {
   "cell_type": "code",
   "execution_count": 10,
   "id": "a2b7dd7c",
   "metadata": {},
   "outputs": [],
   "source": [
    "lines1 = f1.readlines()\n",
    "lines1= list(filter(('\\n').__ne__, lines1 ))\n",
    "dict_left = {}\n",
    "\n",
    "for line in lines1:\n",
    "    line = line.strip();\n",
    "    dict_left[line] = 1;\n",
    "    \n",
    "lines2 = f2.readlines()\n",
    "lines2= list(filter(('\\n').__ne__, lines2 ))\n",
    "dict_right = {}\n",
    "\n",
    "for line in lines2:\n",
    "    line = line.strip();\n",
    "    dict_right[line] = 1;\n",
    "    \n",
    "part0= list(dict_left.keys())\n",
    "part1= list(dict_right.keys())"
   ]
  },
  {
   "cell_type": "code",
   "execution_count": null,
   "id": "6ae29097",
   "metadata": {},
   "outputs": [],
   "source": [
    "conductance= round(nx.conductance(G, part0, part1),4)"
   ]
  },
  {
   "cell_type": "code",
   "execution_count": 95,
   "id": "ebc773fe",
   "metadata": {},
   "outputs": [],
   "source": [
    "def purity(com, diz):\n",
    "    lab0=0\n",
    "    lab1=0\n",
    "    for name in com:\n",
    "        if name== 'nan':\n",
    "            pass\n",
    "        if diz[name]==0:\n",
    "            lab0=lab0+1\n",
    "        else:\n",
    "            lab1=lab1+1\n",
    "        \n",
    "    return round(max(lab0, lab1 )/len(com),4)"
   ]
  },
  {
   "cell_type": "code",
   "execution_count": 98,
   "id": "77cc9d18",
   "metadata": {},
   "outputs": [],
   "source": [
    "#part0.remove('nan')\n",
    "#part1.remove('nan')"
   ]
  },
  {
   "cell_type": "code",
   "execution_count": null,
   "id": "f3595669",
   "metadata": {},
   "outputs": [],
   "source": [
    "p0= purity(part0,mind)\n",
    "p1= purity(part1,mind)"
   ]
  },
  {
   "cell_type": "code",
   "execution_count": null,
   "id": "6b94a7b0",
   "metadata": {},
   "outputs": [],
   "source": [
    "ec_risk0=p0-conductance\n",
    "ec_risk1=p1-conductance\n",
    "#print(conductance)\n",
    "#print(p0)\n",
    "#print(p1)\n",
    "#print(round(ec_risk0,4))\n",
    "#print(round(ec_risk1,4))"
   ]
  }
 ],
 "metadata": {
  "kernelspec": {
   "display_name": "Python 3 (ipykernel)",
   "language": "python",
   "name": "python3"
  },
  "language_info": {
   "codemirror_mode": {
    "name": "ipython",
    "version": 3
   },
   "file_extension": ".py",
   "mimetype": "text/x-python",
   "name": "python",
   "nbconvert_exporter": "python",
   "pygments_lexer": "ipython3",
   "version": "3.9.13"
  }
 },
 "nbformat": 4,
 "nbformat_minor": 5
}
