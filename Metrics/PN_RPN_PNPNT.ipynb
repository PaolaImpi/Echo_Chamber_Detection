{
 "cells": [
  {
   "cell_type": "markdown",
   "id": "b58dfe71",
   "metadata": {},
   "source": [
    "# Sentiment Metrics"
   ]
  },
  {
   "cell_type": "code",
   "execution_count": 1,
   "id": "8ccd03ea",
   "metadata": {},
   "outputs": [],
   "source": [
    "import pandas as pd\n",
    "import networkx as nx\n",
    "import numpy as np\n",
    "import datetime as dt\n",
    "import re\n",
    "import os\n",
    "import json\n",
    "import matplotlib.pyplot as plt\n",
    "from ast import literal_eval\n",
    "import warnings\n",
    "warnings.filterwarnings(\"ignore\")"
   ]
  },
  {
   "cell_type": "code",
   "execution_count": 2,
   "id": "d92b2897",
   "metadata": {},
   "outputs": [],
   "source": [
    "path= \"C:/MyPath/Sentiment/\""
   ]
  },
  {
   "cell_type": "code",
   "execution_count": 3,
   "id": "3b6ec587",
   "metadata": {},
   "outputs": [
    {
     "data": {
      "text/plain": [
       "['guncontrol_reddit_sentiment.csv',\n",
       " 'minority_reddit_sentiment.csv',\n",
       " 'politics_reddit_sentiment.csv',\n",
       " 'vax_reddit_sentiment.csv',\n",
       " 'vax_twitter_sentiment.csv']"
      ]
     },
     "execution_count": 3,
     "metadata": {},
     "output_type": "execute_result"
    }
   ],
   "source": [
    "files: list = list(filter(lambda x: x.endswith(\"sentiment.csv\"), os.listdir(path)))\n",
    "files"
   ]
  },
  {
   "cell_type": "code",
   "execution_count": 45,
   "id": "0ddd81b8",
   "metadata": {},
   "outputs": [
    {
     "data": {
      "text/plain": [
       "['guncontrol_edgelist.txt',\n",
       " 'minority_edgelist.txt',\n",
       " 'politics_edgelist.txt',\n",
       " 'vax_reddit_edgelist.txt',\n",
       " 'vax_twitter_edgelist.txt']"
      ]
     },
     "execution_count": 45,
     "metadata": {},
     "output_type": "execute_result"
    }
   ],
   "source": [
    "gpath = \"C:/MyPath/Graphs/\"\n",
    "graphs: list = list(filter(lambda x: x.endswith(\"edgelist.txt\"), os.listdir(gpath)))\n",
    "graphs"
   ]
  },
  {
   "cell_type": "code",
   "execution_count": 46,
   "id": "9a6eb1ee",
   "metadata": {},
   "outputs": [],
   "source": [
    "graphs = list(map(lambda g: nx.read_weighted_edgelist(gpath + g, delimiter=\",\"), graphs))"
   ]
  },
  {
   "cell_type": "code",
   "execution_count": 47,
   "id": "5980ea1e",
   "metadata": {},
   "outputs": [
    {
     "data": {
      "text/plain": [
       "[<networkx.classes.graph.Graph at 0x1ce630eed30>,\n",
       " <networkx.classes.graph.Graph at 0x1ce630eeaf0>,\n",
       " <networkx.classes.graph.Graph at 0x1ce630eee50>,\n",
       " <networkx.classes.graph.Graph at 0x1ce4e417f10>,\n",
       " <networkx.classes.graph.Graph at 0x1ce4e424b20>]"
      ]
     },
     "execution_count": 47,
     "metadata": {},
     "output_type": "execute_result"
    }
   ],
   "source": [
    "graphs"
   ]
  },
  {
   "cell_type": "code",
   "execution_count": 10,
   "id": "32fd1245",
   "metadata": {},
   "outputs": [],
   "source": [
    "def num_pos(df):\n",
    "    return df[df['Compound']> 0.05].shape[0]\n",
    "\n",
    "def num_neg(df):\n",
    "    return df[df['Compound']< -0.05].shape[0]\n",
    "\n",
    "def tot(df):\n",
    "    return df.shape[0]\n",
    "   \n",
    "def PN(p,n):\n",
    "    return round(p/n, 4)\n",
    "\n",
    "def RPN(p,n):\n",
    "    return round(min(p,n)/max(p,n), 4)\n",
    "\n",
    "def PNPNT(p,n,tot):\n",
    "    m= (p/n)*(p+n)/tot\n",
    "    return round(m,4)\n"
   ]
  },
  {
   "cell_type": "code",
   "execution_count": null,
   "id": "0f0e087c",
   "metadata": {},
   "outputs": [],
   "source": [
    "def compute_metrics_for_files(files, path):\n",
    "    result_data = []\n",
    "\n",
    "    for data in files:\n",
    "        df = pd.read_csv(path + data)\n",
    "        p = num_pos(df)\n",
    "        n = num_neg(df)\n",
    "        totnum = tot(df)\n",
    "        pn = PN(p, n)\n",
    "        rpn = RPN(p, n)\n",
    "        pnpnt = PNPNT(p, n, totnum)\n",
    "\n",
    "        result_data.append({\n",
    "            'File': data,\n",
    "            'PN': pn,\n",
    "            'RPN': rpn,\n",
    "            'PNPNT': pnpnt\n",
    "        })\n",
    "\n",
    "    result_df = pd.DataFrame(result_data)\n",
    "    return result_df"
   ]
  }
 ],
 "metadata": {
  "kernelspec": {
   "display_name": "Python 3 (ipykernel)",
   "language": "python",
   "name": "python3"
  },
  "language_info": {
   "codemirror_mode": {
    "name": "ipython",
    "version": 3
   },
   "file_extension": ".py",
   "mimetype": "text/x-python",
   "name": "python",
   "nbconvert_exporter": "python",
   "pygments_lexer": "ipython3",
   "version": "3.9.13"
  }
 },
 "nbformat": 4,
 "nbformat_minor": 5
}
