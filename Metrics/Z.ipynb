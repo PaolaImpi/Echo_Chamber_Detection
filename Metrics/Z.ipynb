{
 "cells": [
  {
   "cell_type": "markdown",
   "id": "ead1f490",
   "metadata": {},
   "source": [
    "# Z"
   ]
  },
  {
   "cell_type": "code",
   "execution_count": 1,
   "id": "1d512ede",
   "metadata": {},
   "outputs": [],
   "source": [
    "import networkx as nx\n",
    "import pandas as pd\n",
    "import numpy as np\n",
    "import csv\n",
    "import datetime as dt\n",
    "import re\n",
    "import os\n",
    "import json\n",
    "import random\n",
    "import time,pickle\n",
    "import scipy.sparse as sp\n",
    "from operator import itemgetter\n",
    "import matplotlib.pyplot as plt\n",
    "import warnings\n",
    "warnings.filterwarnings(\"ignore\")"
   ]
  },
  {
   "cell_type": "code",
   "execution_count": 2,
   "id": "bdda54ad",
   "metadata": {},
   "outputs": [],
   "source": [
    "from ast import literal_eval"
   ]
  },
  {
   "cell_type": "code",
   "execution_count": 3,
   "id": "903b8bf4",
   "metadata": {},
   "outputs": [],
   "source": [
    "from scipy import spatial\n",
    "from math import*\n",
    "from scipy.spatial import distance"
   ]
  },
  {
   "cell_type": "code",
   "execution_count": 41,
   "id": "44c7768b",
   "metadata": {},
   "outputs": [],
   "source": [
    "path= \"C:/MyPath/Graphs/\" #where you saved your data"
   ]
  },
  {
   "cell_type": "code",
   "execution_count": 105,
   "id": "9e670e5d",
   "metadata": {},
   "outputs": [],
   "source": [
    "#hits\n",
    "G = nx.read_weighted_edgelist(path + \"vax_twitter_edgelist.txt\" , create_using=nx.Graph(), delimiter=\",\")\n",
    "hub_scores, auth_scores= nx.hits(G)"
   ]
  },
  {
   "cell_type": "code",
   "execution_count": 106,
   "id": "11eaef4b",
   "metadata": {},
   "outputs": [],
   "source": [
    "hub_c= pd.DataFrame(hub_scores.items(), columns=['node', 'hscore'])\n",
    "auth_c= pd.DataFrame(auth_scores.items(), columns=['node', 'ascore'])\n",
    "perc= round(auth_c.shape[0]*30/100)"
   ]
  },
  {
   "cell_type": "code",
   "execution_count": 107,
   "id": "b3bcb6ff",
   "metadata": {},
   "outputs": [],
   "source": [
    "hnodes= hub_c.sort_values('hscore', ascending=False)[:perc]['node'].tolist()\n",
    "anodes= auth_c.sort_values('ascore', ascending=False)[:perc]['node'].tolist()\n",
    "central= hnodes+anodes"
   ]
  },
  {
   "cell_type": "code",
   "execution_count": 108,
   "id": "9f80e1da",
   "metadata": {},
   "outputs": [],
   "source": [
    "f1 = open(\"C:/MyPath/vax_twittercommunity0.csv\" )\n",
    "f2 = open(\"C:/MyPath/vax_twittercommunity1.csv\" )"
   ]
  },
  {
   "cell_type": "code",
   "execution_count": 110,
   "id": "ec65f61d",
   "metadata": {},
   "outputs": [],
   "source": [
    "df= pd.read_csv(path+ 'vax_twitter_emb.csv') #data with embeddings"
   ]
  },
  {
   "cell_type": "code",
   "execution_count": 160,
   "id": "6b221f2c",
   "metadata": {},
   "outputs": [
    {
     "data": {
      "text/html": [
       "<div>\n",
       "<style scoped>\n",
       "    .dataframe tbody tr th:only-of-type {\n",
       "        vertical-align: middle;\n",
       "    }\n",
       "\n",
       "    .dataframe tbody tr th {\n",
       "        vertical-align: top;\n",
       "    }\n",
       "\n",
       "    .dataframe thead th {\n",
       "        text-align: right;\n",
       "    }\n",
       "</style>\n",
       "<table border=\"1\" class=\"dataframe\">\n",
       "  <thead>\n",
       "    <tr style=\"text-align: right;\">\n",
       "      <th></th>\n",
       "      <th>username</th>\n",
       "      <th>text_cleaned</th>\n",
       "      <th>embeddings</th>\n",
       "    </tr>\n",
       "  </thead>\n",
       "  <tbody>\n",
       "    <tr>\n",
       "      <th>0</th>\n",
       "      <td>01_taffy</td>\n",
       "      <td>by the way, the source of what i said is mitku...</td>\n",
       "      <td>[-0.20642881095409393, -0.029854411259293556, ...</td>\n",
       "    </tr>\n",
       "    <tr>\n",
       "      <th>1</th>\n",
       "      <td>0_politics2</td>\n",
       "      <td>anti vaccination? nope not at all</td>\n",
       "      <td>[-0.2774412930011749, 0.033726152032613754, 0....</td>\n",
       "    </tr>\n",
       "    <tr>\n",
       "      <th>2</th>\n",
       "      <td>102_virus</td>\n",
       "      <td>what is a vaccination competition? anyway, you...</td>\n",
       "      <td>[0.072479248046875, 0.0009308835724368691, 0.0...</td>\n",
       "    </tr>\n",
       "    <tr>\n",
       "      <th>3</th>\n",
       "      <td>10queues</td>\n",
       "      <td>anti-vaccine activist livestreams himself shov...</td>\n",
       "      <td>[-0.20346961915493011, 0.3762381076812744, 0.0...</td>\n",
       "    </tr>\n",
       "    <tr>\n",
       "      <th>4</th>\n",
       "      <td>10tv</td>\n",
       "      <td>kentucky students lose appeal in chickenpox va...</td>\n",
       "      <td>[-0.1136634424328804, 0.10152998566627502, 0.1...</td>\n",
       "    </tr>\n",
       "    <tr>\n",
       "      <th>...</th>\n",
       "      <td>...</td>\n",
       "      <td>...</td>\n",
       "      <td>...</td>\n",
       "    </tr>\n",
       "    <tr>\n",
       "      <th>12451</th>\n",
       "      <td>zumiprep</td>\n",
       "      <td>anti-vaccination group calls for doj investiga...</td>\n",
       "      <td>[-0.15897351503372192, 0.17765064537525177, 0....</td>\n",
       "    </tr>\n",
       "    <tr>\n",
       "      <th>12452</th>\n",
       "      <td>zuzyque123</td>\n",
       "      <td>i’m sorry mad, i scrolled forever trying to fi...</td>\n",
       "      <td>[-0.09513148665428162, 0.2753380537033081, 0.0...</td>\n",
       "    </tr>\n",
       "    <tr>\n",
       "      <th>12453</th>\n",
       "      <td>zylon9</td>\n",
       "      <td>you seem to be saying that vaccination can cau...</td>\n",
       "      <td>[-0.1944509595632553, -0.07257141172885895, 0....</td>\n",
       "    </tr>\n",
       "    <tr>\n",
       "      <th>12454</th>\n",
       "      <td>zynks</td>\n",
       "      <td>have you started the \"church of vaccination pu...</td>\n",
       "      <td>[-0.15605027973651886, -0.02449946105480194, -...</td>\n",
       "    </tr>\n",
       "    <tr>\n",
       "      <th>12455</th>\n",
       "      <td>zzyzyvasmay</td>\n",
       "      <td>why would she, when he'd have spent it on gild...</td>\n",
       "      <td>[-0.05597546696662903, 0.23336929082870483, -0...</td>\n",
       "    </tr>\n",
       "  </tbody>\n",
       "</table>\n",
       "<p>12456 rows × 3 columns</p>\n",
       "</div>"
      ],
      "text/plain": [
       "          username                                       text_cleaned  \\\n",
       "0         01_taffy  by the way, the source of what i said is mitku...   \n",
       "1      0_politics2                  anti vaccination? nope not at all   \n",
       "2        102_virus  what is a vaccination competition? anyway, you...   \n",
       "3         10queues  anti-vaccine activist livestreams himself shov...   \n",
       "4             10tv  kentucky students lose appeal in chickenpox va...   \n",
       "...            ...                                                ...   \n",
       "12451     zumiprep  anti-vaccination group calls for doj investiga...   \n",
       "12452   zuzyque123  i’m sorry mad, i scrolled forever trying to fi...   \n",
       "12453       zylon9  you seem to be saying that vaccination can cau...   \n",
       "12454        zynks  have you started the \"church of vaccination pu...   \n",
       "12455  zzyzyvasmay  why would she, when he'd have spent it on gild...   \n",
       "\n",
       "                                              embeddings  \n",
       "0      [-0.20642881095409393, -0.029854411259293556, ...  \n",
       "1      [-0.2774412930011749, 0.033726152032613754, 0....  \n",
       "2      [0.072479248046875, 0.0009308835724368691, 0.0...  \n",
       "3      [-0.20346961915493011, 0.3762381076812744, 0.0...  \n",
       "4      [-0.1136634424328804, 0.10152998566627502, 0.1...  \n",
       "...                                                  ...  \n",
       "12451  [-0.15897351503372192, 0.17765064537525177, 0....  \n",
       "12452  [-0.09513148665428162, 0.2753380537033081, 0.0...  \n",
       "12453  [-0.1944509595632553, -0.07257141172885895, 0....  \n",
       "12454  [-0.15605027973651886, -0.02449946105480194, -...  \n",
       "12455  [-0.05597546696662903, 0.23336929082870483, -0...  \n",
       "\n",
       "[12456 rows x 3 columns]"
      ]
     },
     "execution_count": 160,
     "metadata": {},
     "output_type": "execute_result"
    }
   ],
   "source": [
    "df"
   ]
  },
  {
   "cell_type": "code",
   "execution_count": 111,
   "id": "119033e3",
   "metadata": {},
   "outputs": [],
   "source": [
    "lines1 = f1.readlines()\n",
    "lines1= list(filter(('\\n').__ne__, lines1 ))\n",
    "dict_left = {}\n",
    "\n",
    "for line in lines1:\n",
    "    line = line.strip();\n",
    "    dict_left[line] = 1;\n",
    "    \n",
    "lines2 = f2.readlines()\n",
    "lines2= list(filter(('\\n').__ne__, lines2 ))\n",
    "dict_right = {}\n",
    "\n",
    "for line in lines2:\n",
    "    line = line.strip();\n",
    "    dict_right[line] = 1;"
   ]
  },
  {
   "cell_type": "code",
   "execution_count": 112,
   "id": "ef1157f1",
   "metadata": {},
   "outputs": [],
   "source": [
    "com1= set(dict_left.keys())\n",
    "com2= set(dict_right.keys())"
   ]
  },
  {
   "cell_type": "code",
   "execution_count": 114,
   "id": "29e08b82",
   "metadata": {},
   "outputs": [],
   "source": [
    "emb1= df[df['username'].isin(com1) & df['username'].isin(central) ]['embeddings']\n",
    "emb2= df[df['username'].isin(com2) & df['username'].isin(central)]['embeddings']\n",
    "embeddings= df['embeddings']"
   ]
  },
  {
   "cell_type": "code",
   "execution_count": 115,
   "id": "790351da",
   "metadata": {},
   "outputs": [],
   "source": [
    "c1=[]\n",
    "for x in emb1:\n",
    "    c1.append(literal_eval(x))\n",
    "c1= np.array(c1)\n",
    "    \n",
    "c2=[]\n",
    "for x in emb2:\n",
    "    c2.append(literal_eval(x))\n",
    "c2= np.array(c2)\n",
    "\n",
    "X=[]\n",
    "for x in embeddings:\n",
    "    X.append(literal_eval(x))\n",
    "X= np.array(X)\n",
    "    "
   ]
  },
  {
   "cell_type": "code",
   "execution_count": 116,
   "id": "9186094b",
   "metadata": {},
   "outputs": [],
   "source": [
    "# calculate centroids\n",
    "cent1 = c1.mean(axis=0)\n",
    "cent2 = c2.mean(axis=0)\n",
    "cent0 = X.mean(axis=0)\n"
   ]
  },
  {
   "cell_type": "code",
   "execution_count": 117,
   "id": "a2c5ca21",
   "metadata": {},
   "outputs": [],
   "source": [
    "v = np.cov(X.T)\n",
    "SS0 = 0\n",
    "for row in X:\n",
    "    SS0 = SS0 + distance.cosine(row,cent0)\n",
    "    \n",
    "v = np.cov(c1.T)\n",
    "SS1 = 0\n",
    "for row in c1:\n",
    "    SS1 = SS1 + distance.cosine(row,cent1)\n",
    "    \n",
    "v = np.cov(c2.T)\n",
    "SS2 = 0\n",
    "for row in c2:\n",
    "    SS2 = SS2 + distance.cosine(row,cent2)\n",
    "\n"
   ]
  },
  {
   "cell_type": "code",
   "execution_count": null,
   "id": "381de6c2",
   "metadata": {},
   "outputs": [],
   "source": [
    "# Controversy index\n",
    "idx = (SS1+SS2)/SS0\n",
    "print(round(idx,4))\n",
    "print(round(1- round(idx,4),4)) # 1- z"
   ]
  }
 ],
 "metadata": {
  "kernelspec": {
   "display_name": "Python 3 (ipykernel)",
   "language": "python",
   "name": "python3"
  },
  "language_info": {
   "codemirror_mode": {
    "name": "ipython",
    "version": 3
   },
   "file_extension": ".py",
   "mimetype": "text/x-python",
   "name": "python",
   "nbconvert_exporter": "python",
   "pygments_lexer": "ipython3",
   "version": "3.9.13"
  }
 },
 "nbformat": 4,
 "nbformat_minor": 5
}
