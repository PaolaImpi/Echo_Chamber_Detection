{
 "cells": [
  {
   "cell_type": "markdown",
   "id": "0d30ab6e",
   "metadata": {},
   "source": [
    "## Partitioning"
   ]
  },
  {
   "cell_type": "code",
   "execution_count": 3,
   "id": "91b75e4d",
   "metadata": {},
   "outputs": [],
   "source": [
    "import networkx as nx\n",
    "import pandas as pd\n",
    "import numpy as np\n",
    "import csv\n",
    "import metis\n",
    "import os\n",
    "import warnings\n",
    "warnings.filterwarnings(\"ignore\")"
   ]
  },
  {
   "cell_type": "code",
   "execution_count": 4,
   "id": "91d22823",
   "metadata": {},
   "outputs": [],
   "source": [
    "import networkx.algorithms.community as nx_comm"
   ]
  },
  {
   "cell_type": "code",
   "execution_count": 3,
   "id": "0609aed3",
   "metadata": {},
   "outputs": [],
   "source": [
    "path = \"C:/MyPath/Graphs/\""
   ]
  },
  {
   "cell_type": "code",
   "execution_count": null,
   "id": "9ee3c0ca",
   "metadata": {},
   "outputs": [],
   "source": [
    "files: list = list(filter(lambda x: x.endswith(\"graph\"), os.listdir(path)))"
   ]
  },
  {
   "cell_type": "code",
   "execution_count": 5,
   "id": "4b48889b",
   "metadata": {},
   "outputs": [],
   "source": [
    "graphs = [nx.read_gexf(path + graph)  for  graph in files]"
   ]
  },
  {
   "cell_type": "code",
   "execution_count": null,
   "id": "31bfbd9e",
   "metadata": {},
   "outputs": [],
   "source": [
    "def partition_and_save(graphs, files, savepath):\n",
    "    for i, graph in enumerate(graphs):\n",
    "        (edgecuts, parts) = metis.part_graph(graph, 2)\n",
    "\n",
    "        partition0_name = os.path.join(savepath, f\"{files[i]}_cm0.gexf\")\n",
    "        partition0_graph = graph.subgraph([node for node, part in enumerate(parts) if part == 0])\n",
    "        nx.write_gexf(partition0_graph, partition0_name)\n",
    "\n",
    "        partition1_name = os.path.join(savepath, f\"{files[i]}_cm1.gexf\")\n",
    "        partition1_graph = graph.subgraph([node for node, part in enumerate(parts) if part == 1])\n",
    "        nx.write_gexf(partition1_graph, partition1_name)"
   ]
  },
  {
   "cell_type": "code",
   "execution_count": null,
   "id": "4dc4d766",
   "metadata": {},
   "outputs": [],
   "source": [
    "save_path = '/MyPath/'  \n",
    "partition_and_save(graphs, files, save_path)"
   ]
  },
  {
   "cell_type": "code",
   "execution_count": null,
   "id": "e44ff617",
   "metadata": {},
   "outputs": [],
   "source": []
  }
 ],
 "metadata": {
  "kernelspec": {
   "display_name": "Python 3 (ipykernel)",
   "language": "python",
   "name": "python3"
  },
  "language_info": {
   "codemirror_mode": {
    "name": "ipython",
    "version": 3
   },
   "file_extension": ".py",
   "mimetype": "text/x-python",
   "name": "python",
   "nbconvert_exporter": "python",
   "pygments_lexer": "ipython3",
   "version": "3.9.13"
  }
 },
 "nbformat": 4,
 "nbformat_minor": 5
}
